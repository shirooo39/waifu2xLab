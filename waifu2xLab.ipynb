{
  "nbformat": 4,
  "nbformat_minor": 0,
  "metadata": {
    "colab": {
      "name": "waifu2xLab.ipynb",
      "provenance": [],
      "collapsed_sections": [
        "21-Wb8ywqQeJ"
      ],
      "include_colab_link": true
    },
    "kernelspec": {
      "name": "python3",
      "display_name": "Python 3"
    },
    "accelerator": "GPU"
  },
  "cells": [
    {
      "cell_type": "markdown",
      "metadata": {
        "id": "view-in-github",
        "colab_type": "text"
      },
      "source": [
        "<a href=\"https://colab.research.google.com/github/shirooo39/waifu2xLab/blob/master/waifu2xLab.ipynb\" target=\"_parent\"><img src=\"https://colab.research.google.com/assets/colab-badge.svg\" alt=\"Open In Colab\"/></a>"
      ]
    },
    {
      "cell_type": "markdown",
      "metadata": {
        "id": "pevDrGq0FH1y"
      },
      "source": [
        "<a href=\"https://github.com/shirooo39/waifu2xLab\" target=\"_blank\">\n",
        "<img src=\"https://github.com/fluidicon.png\" height=\"100px\" align=\"left\"></a>\n",
        "\n",
        "# <font size=6><center>**Welcome to waifu2xLab**</center></font>\n",
        "\n",
        "<font size=4><center>waifu2xLab is a Google Colab implementation of <a href=\"https://github.com/tsurumeso\" target=\"_blank\">tsurusumeo</a>'s <a href=\"https://github.com/tsurumeso/waifu2x-chainer\" target=\"_blank\">waifu2x-chainer</a></center></font>"
      ]
    },
    {
      "cell_type": "markdown",
      "metadata": {
        "id": "21-Wb8ywqQeJ"
      },
      "source": [
        "# <font size=6><center>✦ *Colab Stay Alive* ✦</center></font>"
      ]
    },
    {
      "cell_type": "code",
      "metadata": {
        "id": "nYEj5CeCqbTY",
        "cellView": "form"
      },
      "source": [
        "# ============================= FORM ============================= #\n",
        "# @markdown <font size=5>← [Start] Colab Stay Alive</font>\n",
        "# @markdown This cell runs a JS code that will automatically press the reconnect button when you got disconnected due to idle.\n",
        "# ================================================================ #\n",
        "\n",
        "import IPython\n",
        "from IPython.display import clear_output\n",
        "from google.colab import output\n",
        "\n",
        "display(IPython.display.Javascript('''\n",
        " function ClickConnect(){\n",
        "   btn = document.querySelector(\"colab-connect-button\")\n",
        "   if (btn != null){\n",
        "     console.log(\"Clicked on the connect button\"); \n",
        "     btn.click() \n",
        "     }\n",
        "   \n",
        "   btn = document.getElementById('connect')\n",
        "   if (btn != null){\n",
        "     console.log(\"Clicked on the reconnect button\"); \n",
        "     btn.click() \n",
        "     }\n",
        "  }\n",
        "  \n",
        "setInterval(ClickConnect,60000)\n",
        "'''))\n",
        "\n",
        "clear_output()"
      ],
      "execution_count": null,
      "outputs": []
    },
    {
      "cell_type": "markdown",
      "metadata": {
        "id": "cRwNEZJmUFMg"
      },
      "source": [
        "If the cell above doesn't work, try to run one of these codes below on your browser's developer tool/console.\n",
        "\n",
        "</br>\n",
        "\n",
        ">Code 1</br>(credit to rockyourcode)\n",
        "<pre><code>function ClickConnect() {\n",
        "  console.log('Working')\n",
        "  document\n",
        "    .querySelector('#top-toolbar > colab-connect-button')\n",
        "    .shadowRoot.querySelector('#connect')\n",
        "    .click()\n",
        "}\n",
        "\n",
        "setInterval(ClickConnect, 60000)</code></pre>\n",
        "\n",
        "</br>\n",
        "\n",
        "> Code 2</br>(credit to Kavyajeet Bora on stack overflow)\n",
        "<pre><code>function ClickConnect(){\n",
        "    console.log(\"Working\"); \n",
        "    document.querySelector(\"colab-toolbar-button#connect\").click() \n",
        "}\n",
        "setInterval(ClickConnect,60000)</code></pre>\n",
        "\n",
        "</br>\n",
        "\n",
        "> Code 3\n",
        "<pre><code>function ClickConnect(){\n",
        "  console.log(\"Connnect Clicked - Start\"); \n",
        "  document.querySelector(\"#top-toolbar > colab-connect-button\").shadowRoot.querySelector(\"#connect\").click();\n",
        "  console.log(\"Connnect Clicked - End\"); \n",
        "};\n",
        "setInterval(ClickConnect, 60000)</code></pre>\n",
        "\n",
        "</br>\n",
        "\n",
        "> Code 4</br>(credit to Stephane Belemkoabga on stack overflow)\n",
        "<pre><code>function ClickConnect(){\n",
        "    console.log(\"Working\"); \n",
        "    document.querySelector(\"colab-connect-button\").click() \n",
        "}\n",
        "setInterval(ClickConnect,60000)</code></pre>"
      ]
    },
    {
      "cell_type": "markdown",
      "metadata": {
        "id": "vAGs1nd8BTI4"
      },
      "source": [
        "# <font size=6><center>✦ *waifu2xLab* ✦</center></font>"
      ]
    },
    {
      "cell_type": "markdown",
      "metadata": {
        "id": "Kmg0fZ5g4JlY"
      },
      "source": [
        "<center><img src=\"https://raw.githubusercontent.com/tsurumeso/waifu2x-chainer/master/images/summery.png\" height=\"200\" alt=\"waifu2xLab\"></center>"
      ]
    },
    {
      "cell_type": "code",
      "metadata": {
        "id": "1M7PHpNbxCte",
        "cellView": "form"
      },
      "source": [
        "# ============================= FORM ============================= #\n",
        "# @markdown <font size=5>← Clone waifu2x-chainer and Install Dependencies</font>\n",
        "# ================================================================ #\n",
        "\n",
        "from IPython.display import clear_output\n",
        "\n",
        "# Installing the required dependencies\n",
        "# !pip install -q cupy-cuda100\n",
        "!pip install -q futures\n",
        "!pip install -q chainer\n",
        "\n",
        "clear_output()\n",
        "\n",
        "# Cloning waifu2x-chainer from github\n",
        "!git clone -l -s https://github.com/tsurumeso/waifu2x-chainer.git waifu2x/waifu2x-chainer\n",
        "\n",
        "# Creating input and output directory for waifu2x-chainer to work with\n",
        "%mkdir /content/waifu2x/input\n",
        "%mkdir /content/waifu2x/output\n",
        "\n",
        "clear_output()"
      ],
      "execution_count": null,
      "outputs": []
    },
    {
      "cell_type": "code",
      "metadata": {
        "id": "4-ae0mdByus0",
        "cellView": "form"
      },
      "source": [
        "# ============================= FORM ============================= #\n",
        "# @markdown <font size=5>← Upload Image or Get from URL</font>\n",
        "image_source = 'file_upload' #@param [\"file_upload\", \"url\"]\n",
        "url = \"\" # @param {type:\"string\"}\n",
        "# @markdown > If you already have image(s) to process in the VM's local disk, you don't need to run this cell.\n",
        "# @markdown > For the url, input a direct link to the file. (ex: https://domain.moe/images.jpg)\n",
        "# ================================================================ #\n",
        "\n",
        "from IPython.display import clear_output\n",
        "import google.colab.files\n",
        "\n",
        "%cd /content/waifu2x/input\n",
        "clear_output()\n",
        "\n",
        "if image_source == 'file_upload':\n",
        "  uploaded = google.colab.files.upload()\n",
        "  clear_output()\n",
        "else:\n",
        "  if url == '':\n",
        "    print(\"The URL field is empty!\")\n",
        "  else:\n",
        "    !wget -q {url}\n",
        "    clear_output()"
      ],
      "execution_count": null,
      "outputs": []
    },
    {
      "cell_type": "code",
      "metadata": {
        "id": "pLnJpc4lpNtM",
        "cellView": "form"
      },
      "source": [
        "# ============================= FORM ============================= #\n",
        "# @markdown <font size=5>← [Start] waifu2xLab</font>\n",
        "# ================================================================ #\n",
        "input = \"\"  # @param {type:\"string\"}\n",
        "output = \"\"  # @param {type:\"string\"}\n",
        "# automatically_clear_the_input_folder = False # @param {type:\"boolean\"}\n",
        "\n",
        "# @markdown > <p>If the \"input\" and \"output\" fields are empty, waifu2xLab will look for source in \"/content/waifu2x/input\"</br>and store the processed image into \"/content/waifu2x/output\"</p>\n",
        "# @markdown > <p>By default, waifu2xLab will process anything inside the \"input\" folder.</br>To process a single image, type-in the absolute path to the file (ex: /content/downloads/image.jpg).</p>\n",
        "# @markdown *****\n",
        "\n",
        "processor = 'GPU' # @param [\"CPU\", \"GPU\"]\n",
        "mode = 'denoise' # @param [\"denoise\", \"upscale\", \"denoise_&_upscale\"]\n",
        "tta = 'disabled' # @param [\"enabled\", \"disabled\"]\n",
        "tta_level = '8' # @param [\"2\", \"4\", \"8\"]\n",
        "# tta_level = 2 # @param {type:\"slider\", min:2, max:8, step:2}\n",
        "denoise_level = 0 # @param {type:\"slider\", min:0, max:3, step:1}\n",
        "upscale_ratio = 1 # @param {type:\"slider\", min:1, max:10, step:1}\n",
        "output_quality = 100 # @param {type:\"slider\", min:1, max:100, step:1}\n",
        "color_profile = 'RGB' # @param [\"RGB\", \"YUV\"]\n",
        "model = 'VGG7' # @param [\"VGG7\", \"UpConv7\", \"ResNet10\", \"UpResNet10\"]\n",
        "output_format = 'PNG' # @param [\"PNG\", \"WEBP\"]\n",
        "# ================================================================ #\n",
        "\n",
        "from IPython.display import clear_output\n",
        "import google.colab.files\n",
        "\n",
        "# For now, the CPU core is hardcoded to use 4 cores\n",
        "# The same goes for GPU, only GPU = 0 will be used\n",
        "if processor == 'CPU':\n",
        "  processor = ''\n",
        "elif processor == 'GPU':\n",
        "  processor = '-g 0'\n",
        "\n",
        "# If mode \"noise\" is chosen, the slider \"upscale_ratio\" is ignored\n",
        "# If mode \"scale\" is chosen, the slider \"denoise_level\" is ignored\n",
        "if mode == 'denoise':\n",
        "  mode = 'noise'\n",
        "  if mode == 'noise':\n",
        "    upscale_ratio = 1\n",
        "elif mode == 'upscale':\n",
        "  mode = 'scale'\n",
        "  if mode == 'scale':\n",
        "    denoise_level = 0\n",
        "elif mode == 'denoise_&_upscale':\n",
        "  mode = 'noise_scale'\n",
        "\n",
        "# Checking if tta is enabled or not\n",
        "if tta == 'enabled':\n",
        "  tta1 = '-t'\n",
        "  tta2 = '-T'\n",
        "elif tta == 'disabled':\n",
        "  tta1 = ''\n",
        "  tta2 = ''\n",
        "  tta_level = ''\n",
        "\n",
        "# Checking for which arch/model is used and convert it into parameter number\n",
        "if model == 'VGG7':\n",
        "  model = 0\n",
        "elif model == 'UpConv7':\n",
        "  model = 1\n",
        "elif model == 'ResNet10':\n",
        "  model = 2\n",
        "elif model == 'UpResNet10':\n",
        "  model = 3\n",
        "\n",
        "# Checking for the chosen color profile and convert it into parameter\n",
        "if color_profile == 'YUV':\n",
        "  color_profile = 'y'\n",
        "elif color_profile == 'RGB':\n",
        "  color_profile = 'rgb'\n",
        "\n",
        "# Checking for which output format is chosen and convert it into parameter\n",
        "if output_format == 'PNG':\n",
        "  output_format = 'png'\n",
        "elif output_format == 'WEBP':\n",
        "  output_format = 'webp'\n",
        "\n",
        "# Checking whether input and output are empty or not\n",
        "# If they are empty, the default storing path will be used (/content/waifu2x/)\n",
        "%cd /content/waifu2x/input\n",
        "clear_output()\n",
        "\n",
        "if input == '' and output == '':\n",
        "  input = '/content/waifu2x/input'\n",
        "  output = '/content/waifu2x/output'\n",
        "elif input == '' and not output == '':\n",
        "  input = '/content/waifu2x/input'\n",
        "elif not input == '' and output == '':\n",
        "  output = '/content/waifu2x/output'\n",
        "\n",
        "%cd /content/waifu2x/waifu2x-chainer\n",
        "clear_output()\n",
        "\n",
        "!python waifu2x.py {processor} -m {mode} {tta1} {tta2} {tta_level} -n {denoise_level} -s {upscale_ratio} -c {color_profile} -a {model} -e {output_format} -q {output_quality} -i \"{input}\" -o \"{output}\"\n",
        "\n",
        "print(\"\")\n",
        "print(\"waifu2xLab has finished its task!\")\n",
        "print(\"All of the processed images are stored in\", output)\n",
        "\n",
        "# if automatically_clear_the_input_folder == True:\n",
        "#  %rm -rf /content/waifu2x/input/*"
      ],
      "execution_count": null,
      "outputs": []
    }
  ]
}