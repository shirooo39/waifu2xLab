{
  "nbformat": 4,
  "nbformat_minor": 0,
  "metadata": {
    "colab": {
      "name": "waifu2xLab.ipynb",
      "provenance": [],
      "collapsed_sections": [],
      "include_colab_link": true
    },
    "kernelspec": {
      "name": "python3",
      "display_name": "Python 3"
    },
    "accelerator": "GPU"
  },
  "cells": [
    {
      "cell_type": "markdown",
      "metadata": {
        "id": "view-in-github",
        "colab_type": "text"
      },
      "source": [
        "<a href=\"https://colab.research.google.com/github/shirooo39/waifu2xLab/blob/master/waifu2xLab.ipynb\" target=\"_parent\"><img src=\"https://colab.research.google.com/assets/colab-badge.svg\" alt=\"Open In Colab\"/></a>"
      ]
    },
    {
      "cell_type": "markdown",
      "metadata": {
        "id": "tv4-IhEDgWJm",
        "colab_type": "text"
      },
      "source": [
        "# <center>Welcome to **waifu2xLab**</center>\n",
        "\n",
        "<center>waifu2xLab is a Google Colab implementation of <a href=\"https://github.com/tsurumeso\" target=\"_blank\">tsurusumeo</a>'s <a href=\"https://github.com/tsurumeso/waifu2x-chainer\" target=\"_blank\">waifu2x-chainer</a></br><font size=1px>(this notebook is written by Shiro39)</font></center>\n"
      ]
    },
    {
      "cell_type": "code",
      "metadata": {
        "id": "1M7PHpNbxCte",
        "colab_type": "code",
        "cellView": "form",
        "colab": {}
      },
      "source": [
        "# ============================= FORM ============================= #\n",
        "# @markdown <h3>← Clone waifu2x-chainer and Install Dependencies</h3>\n",
        "# @markdown <p></p>\n",
        "# ================================================================ #\n",
        "\n",
        "from IPython.display import clear_output\n",
        "\n",
        "# Installing the required dependencies\n",
        "# !pip install -q cupy-cuda100\n",
        "!pip install -q futures\n",
        "!pip install -q chainer\n",
        "\n",
        "clear_output()\n",
        "\n",
        "# Cloning waifu2x-chainer from github\n",
        "!git clone -l -s https://github.com/tsurumeso/waifu2x-chainer.git waifu2x/waifu2x-chainer\n",
        "\n",
        "# Creating input and output directory for waifu2x-chainer to work with\n",
        "%cd /content\n",
        "%mkdir waifu2x/input\n",
        "%mkdir waifu2x/output\n",
        "\n",
        "clear_output()"
      ],
      "execution_count": 1,
      "outputs": []
    },
    {
      "cell_type": "code",
      "metadata": {
        "id": "4-ae0mdByus0",
        "colab_type": "code",
        "cellView": "form",
        "colab": {}
      },
      "source": [
        "# ============================= FORM ============================= #\n",
        "# @markdown <h3>← Upload Image or Get from URL</h3></br>\n",
        "# ================================================================ #\n",
        "\n",
        "from IPython.display import clear_output\n",
        "import google.colab.files\n",
        "\n",
        "image_source = 'local_disk' #@param [\"local_disk\", \"url\"]\n",
        "url = \"\" # @param {type:\"string\"}\n",
        "\n",
        "%cd /content/waifu2x/input\n",
        "clear_output()\n",
        "\n",
        "if image_source == 'local_disk':\n",
        "  uploaded = google.colab.files.upload()\n",
        "else:\n",
        "  !wget -q {url}\n",
        "\n",
        "clear_output()"
      ],
      "execution_count": 17,
      "outputs": []
    },
    {
      "cell_type": "code",
      "metadata": {
        "id": "pLnJpc4lpNtM",
        "colab_type": "code",
        "cellView": "form",
        "colab": {}
      },
      "source": [
        "# ============================= FORM ============================= #\n",
        "# @markdown <h3>← [Start] Waifu2xLab</h3></br>\n",
        "# ================================================================ #\n",
        "\n",
        "from IPython.display import clear_output\n",
        "import google.colab.files\n",
        "\n",
        "input = \"\"  # @param {type:\"string\"}\n",
        "output = \"\"  # @param {type:\"string\"}\n",
        "automatically_clear__the_input_folder = False #@param {type:\"boolean\"}\n",
        "# @markdown ---\n",
        "mode = 'noise' #@param [\"noise\", \"scale\", \"noise_scale\"]\n",
        "denoise_level = 0 #@param {type:\"slider\", min:0, max:3, step:1}\n",
        "scale_ratio = 1 #@param {type:\"slider\", min:1, max:10, step:1}\n",
        "webp_quality = 100 #@param {type:\"slider\", min:1, max:100, step:1}\n",
        "color_profile = 'RGB' #@param [\"RGB\", \"YUV\"]\n",
        "arch = 'VGG7' #@param [\"VGG7\", \"UpConv7\", \"ResNet10\", \"UpResNet10\"]\n",
        "output_format = 'png' #@param [\"png\", \"webp\"]\n",
        "\n",
        "# @markdown </br>\n",
        "# @markdown <p>Note: if the \"input\" and \"output\" fields are empty, waifu2xLab will look for source in \"/content/waifu2x/input\"</br>and store the processed image into \"/content/waifu2x/output\"</p>\n",
        "\n",
        "# If mode \"noise\" is chosen, the slider \"scale_ratio\" is ignored\n",
        "# If mode \"scale\" is chosen, the slider \"denoise_level\" is ignored\n",
        "if mode == 'noise':\n",
        "  scale_ratio = 1\n",
        "elif mode == 'scale':\n",
        "  denoise_level = 0\n",
        "\n",
        "# Checking for which arch is used\n",
        "if arch == 'VGG7':\n",
        "  arch = 0\n",
        "elif arch == 'UpConv7':\n",
        "  arch = 1\n",
        "elif arch == 'ResNet10':\n",
        "  arch = 2\n",
        "elif arch == 'UpResNet10':\n",
        "  arch = 3\n",
        "\n",
        "# Checking for the chosen color profile\n",
        "if color_profile == 'YUV':\n",
        "  color_profile = 'Y'\n",
        "else:\n",
        "  color_profile = 'rgb'\n",
        "\n",
        "# Checking whether input and output are empty or not\n",
        "# If they are empty, the default storing path will be used (/content/waifu2x/)\n",
        "%cd /content/waifu2x/input\n",
        "clear_output()\n",
        "\n",
        "if input == '' and output == '':\n",
        "  input = '/content/waifu2x/input'\n",
        "  output = '/content/waifu2x/output'\n",
        "elif input_local == '' and not output == '':\n",
        "  input = '/content/waifu2x/input'\n",
        "elif not input == '' and output == '':\n",
        "  output = '/content/waifu2x/output'\n",
        "\n",
        "%cd /content/waifu2x/waifu2x-chainer\n",
        "clear_output()\n",
        "\n",
        "!python waifu2x.py -g 0 -m {mode} -n {denoise_level} -s {scale_ratio} -c {color_profile} -a {arch} -e {output_format} -q {webp_quality} -i {input} -o {output}\n",
        "\n",
        "if automatically_clear__the_input_folder == True:\n",
        "  %rm -rf /content/waifu2x/input/*"
      ],
      "execution_count": null,
      "outputs": []
    }
  ]
}